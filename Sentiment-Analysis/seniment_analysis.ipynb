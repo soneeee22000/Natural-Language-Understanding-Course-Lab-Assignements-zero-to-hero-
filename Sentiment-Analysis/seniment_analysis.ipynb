{
 "cells": [
  {
   "cell_type": "code",
   "execution_count": null,
   "metadata": {},
   "outputs": [],
   "source": []
  },
  {
   "attachments": {},
   "cell_type": "markdown",
   "metadata": {},
   "source": [
    "### 1.  Find a sentiment dataset, to train a generic sentiment model. --> (any dataset) but chaky recommend https://nlp.stanford.edu/sentiment/treebank.html\n",
    "2.  Test your model, such that it SHOULD pass negative negative sentence (2), and negative positive sentence (2)\n",
    "3.  Create a website:\n",
    "     1.  Input one thing:  \"Mac mini 2022\", or \"Surface book\", \"#bitcoin\", \"Chaklam NLP class\"\n",
    "     2.  Scrap twitter data related to these products (no need too many posts....just like 50 posts...)\n",
    "     3.  Plot the graph, how many posts are positive and negative\n",
    "     4.  What are top words / entities inside positive comments, and negative comments"
   ]
  }
 ],
 "metadata": {
  "language_info": {
   "name": "python"
  },
  "orig_nbformat": 4
 },
 "nbformat": 4,
 "nbformat_minor": 2
}
