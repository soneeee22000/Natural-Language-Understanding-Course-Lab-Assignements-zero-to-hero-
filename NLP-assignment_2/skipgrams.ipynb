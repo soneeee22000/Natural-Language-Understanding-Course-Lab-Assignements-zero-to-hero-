{
 "cells": [
  {
   "attachments": {},
   "cell_type": "markdown",
   "metadata": {},
   "source": [
    "Natural Language Processing \n",
    "Word 2 Vec\n",
    "Skip Grams "
   ]
  },
  {
   "cell_type": "code",
   "execution_count": 16,
   "metadata": {},
   "outputs": [],
   "source": [
    "import numpy as np\n",
    "import torch\n",
    "import torch.nn as nn\n",
    "import torch.optim as optim\n",
    "import matplotlib.pyplot as plt\n",
    "import torch.nn.functional as F\n",
    "from nltk.corpus import gutenberg\n",
    "import pickle"
   ]
  },
  {
   "cell_type": "code",
   "execution_count": 17,
   "metadata": {},
   "outputs": [],
   "source": [
    "#1. Load the data"
   ]
  },
  {
   "cell_type": "code",
   "execution_count": 18,
   "metadata": {},
   "outputs": [],
   "source": [
    "#load the data from the pickle file\n",
    "with open('corpus.pkl', 'rb') as f:\n",
    "    tokenized_corpus, vocab, word2index, index2word = pickle.load(f)\n",
    "flatten = lambda l: [item for sublist in l for item in sublist]\n",
    "voc_size = len(vocab)\n"
   ]
  },
  {
   "cell_type": "code",
   "execution_count": 19,
   "metadata": {},
   "outputs": [],
   "source": [
    "#2. pre train the publish_display_data\n",
    "\n",
    "def random_batch(batch_size, word_sequence):\n",
    "    \n",
    "    # Make skip gram of one size window\n",
    "    skip_grams = []\n",
    "    # loop each word sequence\n",
    "    # we starts from 1 because 0 has no context\n",
    "    # we stop at second last for the same reason\n",
    "    for sent in tokenized_corpus:\n",
    "        for i in range(1, len(sent) - 1):\n",
    "            target = word2index[sent[i]]\n",
    "            context = [word2index[sent[i - 1]], word2index[sent[i + 1]]]\n",
    "            for w in context:\n",
    "                skip_grams.append([target, w])\n",
    "    \n",
    "    random_inputs = []\n",
    "    random_labels = []\n",
    "    random_index = np.random.choice(range(len(skip_grams)), batch_size, replace=False) #randomly pick without replacement\n",
    "        \n",
    "    for i in random_index:\n",
    "        random_inputs.append([skip_grams[i][0]])  # target, e.g., 2\n",
    "        random_labels.append([skip_grams[i][1]])  # context word, e.g., 3\n",
    "            \n",
    "    return np.array(random_inputs), np.array(random_labels)"
   ]
  },
  {
   "cell_type": "code",
   "execution_count": 20,
   "metadata": {},
   "outputs": [
    {
     "name": "stdout",
     "output_type": "stream",
     "text": [
      "[[ 513]\n",
      " [ 941]\n",
      " [1083]\n",
      " [ 456]\n",
      " [3186]\n",
      " [1600]\n",
      " [2213]\n",
      " [ 236]\n",
      " [2780]\n",
      " [ 236]\n",
      " [2280]\n",
      " [ 513]\n",
      " [ 513]\n",
      " [2228]\n",
      " [2078]\n",
      " [1279]\n",
      " [ 467]\n",
      " [1642]\n",
      " [1407]\n",
      " [2078]]\n"
     ]
    }
   ],
   "source": [
    "# Testing the random_batch function first\n",
    "batch_size = 20\n",
    "word_sequence = flatten(tokenized_corpus)\n",
    "random_inputs, random_labels = random_batch(batch_size, word_sequence)\n",
    "print(random_inputs)\n",
    "\n"
   ]
  },
  {
   "cell_type": "code",
   "execution_count": 21,
   "metadata": {},
   "outputs": [],
   "source": [
    "#3 Model \n",
    "class Skipgram(nn.Module):\n",
    "    \n",
    "    def __init__(self, vocab_size, emb_size):\n",
    "        super(Skipgram,self).__init__()\n",
    "        self.embedding_v = nn.Embedding(vocab_size, emb_size)\n",
    "        self.embedding_u = nn.Embedding(vocab_size, emb_size)\n",
    "    \n",
    "    def forward(self, center_words, target_words, all_vocabs):\n",
    "        center_embeds = self.embedding_v(center_words) # [batch_size, 1, emb_size]\n",
    "        target_embeds = self.embedding_u(target_words) # [batch_size, 1, emb_size]\n",
    "        all_embeds    = self.embedding_u(all_vocabs) #   [batch_size, voc_size, emb_size]\n",
    "        \n",
    "        scores      = target_embeds.bmm(center_embeds.transpose(1, 2)).squeeze(2)\n",
    "        #[batch_size, 1, emb_size] @ [batch_size, emb_size, 1] = [batch_size, 1, 1] = [batch_size, 1]\n",
    "\n",
    "        norm_scores = all_embeds.bmm(center_embeds.transpose(1, 2)).squeeze(2)\n",
    "        #[batch_size, voc_size, emb_size] @ [batch_size, emb_size, 1] = [batch_size, voc_size, 1] = [batch_size, voc_size]\n",
    "\n",
    "        nll = -torch.mean(torch.log(torch.exp(scores)/torch.sum(torch.exp(norm_scores), 1).unsqueeze(1))) # log-softmax\n",
    "        # scalar (loss must be scalar)    \n",
    "            \n",
    "        return nll # negative log likelihood\n"
   ]
  },
  {
   "cell_type": "code",
   "execution_count": 22,
   "metadata": {},
   "outputs": [
    {
     "data": {
      "text/plain": [
       "torch.Size([100, 3203])"
      ]
     },
     "execution_count": 22,
     "metadata": {},
     "output_type": "execute_result"
    }
   ],
   "source": [
    "#4. Train the model\n",
    "# Hyperparameters\n",
    "batch_size = 100\n",
    "embedding_size = 100\n",
    "epochs = 1000\n",
    "learning_rate = 0.001\n",
    "\n",
    "# Model\n",
    "model = Skipgram(voc_size, embedding_size)\n",
    "optimizer = optim.Adam(model.parameters(), lr=learning_rate)\n",
    "\n",
    "def prepare_sequence(seq, word2index):\n",
    "    idxs = list(map(lambda w: word2index[w] if word2index.get(w) is not None else word2index[\"<UNK>\"], seq))\n",
    "    return torch.LongTensor(idxs)\n",
    "\n",
    "#use for the normalized term in the probability calculation\n",
    "all_vocabs = prepare_sequence(list(vocab), word2index).expand(batch_size, len(vocab))  # [batch_size, voc_size]\n",
    "all_vocabs.shape"
   ]
  },
  {
   "cell_type": "code",
   "execution_count": 23,
   "metadata": {},
   "outputs": [],
   "source": [
    "def epoch_time(start_time, end_time):\n",
    "    elapsed_time = end_time - start_time\n",
    "    elapsed_mins = int(elapsed_time / 60)\n",
    "    elapsed_secs = int(elapsed_time - (elapsed_mins * 60))\n",
    "    return elapsed_mins, elapsed_secs"
   ]
  },
  {
   "cell_type": "code",
   "execution_count": 24,
   "metadata": {},
   "outputs": [
    {
     "ename": "TypeError",
     "evalue": "unhashable type: 'numpy.ndarray'",
     "output_type": "error",
     "traceback": [
      "\u001b[1;31m---------------------------------------------------------------------------\u001b[0m",
      "\u001b[1;31mTypeError\u001b[0m                                 Traceback (most recent call last)",
      "\u001b[1;32mc:\\NLP-assignment_2\\skipgrams.ipynb Cell 10\u001b[0m in \u001b[0;36m<cell line: 3>\u001b[1;34m()\u001b[0m\n\u001b[0;32m      <a href='vscode-notebook-cell:/c%3A/NLP-assignment_2/skipgrams.ipynb#X14sZmlsZQ%3D%3D?line=3'>4</a>\u001b[0m avg_loss \u001b[39m=\u001b[39m \u001b[39m0\u001b[39m\n\u001b[0;32m      <a href='vscode-notebook-cell:/c%3A/NLP-assignment_2/skipgrams.ipynb#X14sZmlsZQ%3D%3D?line=4'>5</a>\u001b[0m batch_inputs, batch_labels \u001b[39m=\u001b[39m random_batch(batch_size, word_sequence)\n\u001b[1;32m----> <a href='vscode-notebook-cell:/c%3A/NLP-assignment_2/skipgrams.ipynb#X14sZmlsZQ%3D%3D?line=5'>6</a>\u001b[0m batch_inputs \u001b[39m=\u001b[39m prepare_sequence(batch_inputs, word2index)\n\u001b[0;32m      <a href='vscode-notebook-cell:/c%3A/NLP-assignment_2/skipgrams.ipynb#X14sZmlsZQ%3D%3D?line=6'>7</a>\u001b[0m batch_labels \u001b[39m=\u001b[39m prepare_sequence(batch_labels, word2index)\n\u001b[0;32m      <a href='vscode-notebook-cell:/c%3A/NLP-assignment_2/skipgrams.ipynb#X14sZmlsZQ%3D%3D?line=7'>8</a>\u001b[0m optimizer\u001b[39m.\u001b[39mzero_grad()\n",
      "\u001b[1;32mc:\\NLP-assignment_2\\skipgrams.ipynb Cell 10\u001b[0m in \u001b[0;36mprepare_sequence\u001b[1;34m(seq, word2index)\u001b[0m\n\u001b[0;32m     <a href='vscode-notebook-cell:/c%3A/NLP-assignment_2/skipgrams.ipynb#X14sZmlsZQ%3D%3D?line=11'>12</a>\u001b[0m \u001b[39mdef\u001b[39;00m \u001b[39mprepare_sequence\u001b[39m(seq, word2index):\n\u001b[1;32m---> <a href='vscode-notebook-cell:/c%3A/NLP-assignment_2/skipgrams.ipynb#X14sZmlsZQ%3D%3D?line=12'>13</a>\u001b[0m     idxs \u001b[39m=\u001b[39m \u001b[39mlist\u001b[39;49m(\u001b[39mmap\u001b[39;49m(\u001b[39mlambda\u001b[39;49;00m w: word2index[w] \u001b[39mif\u001b[39;49;00m word2index\u001b[39m.\u001b[39;49mget(w) \u001b[39mis\u001b[39;49;00m \u001b[39mnot\u001b[39;49;00m \u001b[39mNone\u001b[39;49;00m \u001b[39melse\u001b[39;49;00m word2index[\u001b[39m\"\u001b[39;49m\u001b[39m<UNK>\u001b[39;49m\u001b[39m\"\u001b[39;49m], seq))\n\u001b[0;32m     <a href='vscode-notebook-cell:/c%3A/NLP-assignment_2/skipgrams.ipynb#X14sZmlsZQ%3D%3D?line=13'>14</a>\u001b[0m     \u001b[39mreturn\u001b[39;00m torch\u001b[39m.\u001b[39mLongTensor(idxs)\n",
      "\u001b[1;32mc:\\NLP-assignment_2\\skipgrams.ipynb Cell 10\u001b[0m in \u001b[0;36mprepare_sequence.<locals>.<lambda>\u001b[1;34m(w)\u001b[0m\n\u001b[0;32m     <a href='vscode-notebook-cell:/c%3A/NLP-assignment_2/skipgrams.ipynb#X14sZmlsZQ%3D%3D?line=11'>12</a>\u001b[0m \u001b[39mdef\u001b[39;00m \u001b[39mprepare_sequence\u001b[39m(seq, word2index):\n\u001b[1;32m---> <a href='vscode-notebook-cell:/c%3A/NLP-assignment_2/skipgrams.ipynb#X14sZmlsZQ%3D%3D?line=12'>13</a>\u001b[0m     idxs \u001b[39m=\u001b[39m \u001b[39mlist\u001b[39m(\u001b[39mmap\u001b[39m(\u001b[39mlambda\u001b[39;00m w: word2index[w] \u001b[39mif\u001b[39;00m word2index\u001b[39m.\u001b[39;49mget(w) \u001b[39mis\u001b[39;00m \u001b[39mnot\u001b[39;00m \u001b[39mNone\u001b[39;00m \u001b[39melse\u001b[39;00m word2index[\u001b[39m\"\u001b[39m\u001b[39m<UNK>\u001b[39m\u001b[39m\"\u001b[39m], seq))\n\u001b[0;32m     <a href='vscode-notebook-cell:/c%3A/NLP-assignment_2/skipgrams.ipynb#X14sZmlsZQ%3D%3D?line=13'>14</a>\u001b[0m     \u001b[39mreturn\u001b[39;00m torch\u001b[39m.\u001b[39mLongTensor(idxs)\n",
      "\u001b[1;31mTypeError\u001b[0m: unhashable type: 'numpy.ndarray'"
     ]
    }
   ],
   "source": [
    "import time \n",
    "start_time = time.time()\n",
    "for epoch in range(epochs):\n",
    "    avg_loss = 0\n",
    "    batch_inputs, batch_labels = random_batch(batch_size, word_sequence)\n",
    "    batch_inputs = prepare_sequence(batch_inputs, word2index)\n",
    "    batch_labels = prepare_sequence(batch_labels, word2index)\n",
    "    optimizer.zero_grad()\n",
    "    loss = model(batch_inputs, batch_labels, all_vocabs)\n",
    "    loss.backward()\n",
    "    optimizer.step()\n",
    "    avg_loss += loss.item()\n",
    "    if (epoch+1) % 100 == 0:\n",
    "        print('Epoch [{}/{}], Loss: {:.4f}'.format(epoch+1, epochs, avg_loss))\n",
    "end_time = time.time()\n",
    "epoch_mins, epoch_secs = epoch_time(start_time, end_time)\n",
    "print('Epoch Time: {}m {}s'.format(epoch_mins, epoch_secs))\n",
    " \n",
    "\n"
   ]
  }
 ],
 "metadata": {
  "kernelspec": {
   "display_name": "Python 3",
   "language": "python",
   "name": "python3"
  },
  "language_info": {
   "codemirror_mode": {
    "name": "ipython",
    "version": 3
   },
   "file_extension": ".py",
   "mimetype": "text/x-python",
   "name": "python",
   "nbconvert_exporter": "python",
   "pygments_lexer": "ipython3",
   "version": "3.10.8"
  },
  "orig_nbformat": 4,
  "vscode": {
   "interpreter": {
    "hash": "a59b473075a889197cef78f691a8dde253fc9cd06ebdea22432c59d124001e4e"
   }
  }
 },
 "nbformat": 4,
 "nbformat_minor": 2
}
