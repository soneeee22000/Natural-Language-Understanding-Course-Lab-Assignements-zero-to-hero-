{
 "cells": [
  {
   "cell_type": "code",
   "execution_count": 1,
   "id": "796aaabe-f86f-4f03-b528-b87f9a1aa919",
   "metadata": {},
   "outputs": [],
   "source": [
    "import praw\n",
    "import pandas as pd"
   ]
  },
  {
   "cell_type": "markdown",
   "id": "4d6eb853-00ce-457a-8105-54feefa6d6bf",
   "metadata": {},
   "source": [
    "# 1) Instance of Reddit"
   ]
  },
  {
   "cell_type": "code",
   "execution_count": 2,
   "id": "7730ab5a-e857-494f-96ea-b6d517b9ac0d",
   "metadata": {},
   "outputs": [],
   "source": [
    "user_agent = \"praw_scraper\"\n",
    "\n",
    "# Instance of Reddit\n",
    "reddit = praw.Reddit(\n",
    "    client_id=\"xyd-oYB3Q6lX8j9mZKBwIA\",\n",
    "    client_secret=\"X6tPHoD-LlwFcsPf2eFQovaEPk_59A\",\n",
    "    user_agent=user_agent,\n",
    ")"
   ]
  },
  {
   "cell_type": "markdown",
   "id": "cd25fafc-dc33-4ffb-97e7-5868973ac971",
   "metadata": {},
   "source": [
    "# 2) Extracting Reddit posts for Subreddit \"nlp\""
   ]
  },
  {
   "cell_type": "code",
   "execution_count": 3,
   "id": "4fc9846b-ee5c-49d4-a5cc-058e4cd9b5a1",
   "metadata": {},
   "outputs": [
    {
     "name": "stdout",
     "output_type": "stream",
     "text": [
      "nlp\n"
     ]
    }
   ],
   "source": [
    "subreddit_name = \"nlp\"\n",
    "subreddit = reddit.subreddit(subreddit_name)\n",
    "\n",
    "print(subreddit.display_name)"
   ]
  },
  {
   "cell_type": "code",
   "execution_count": 4,
   "id": "07e853bc-8fac-4a1f-aae2-12537e072651",
   "metadata": {},
   "outputs": [],
   "source": [
    "titles=[]\n",
    "scores=[]\n",
    "ids=[]\n",
    "\n",
    "for submission in subreddit.top(limit=50):\n",
    "    titles.append(submission.title)\n",
    "    scores.append(submission.score) #upvotes\n",
    "    ids.append(submission.id)\n"
   ]
  },
  {
   "cell_type": "code",
   "execution_count": 5,
   "id": "5a1dc030-4414-41d6-b0cd-2f6d71d6f56c",
   "metadata": {},
   "outputs": [
    {
     "name": "stdout",
     "output_type": "stream",
     "text": [
      "                                               Title      Id  Upvotes\n",
      "0  There should be a HUGE banner saying Neuro Lin...  c31dhf      127\n",
      "1  This subreddit is about the PSYCHOLOGICAL TECH...  lfhuhu       92\n",
      "2             6 NLP Techniques You Can Use Right Now  43jhpx       85\n",
      "3                  Newly certified practitioners....  uxgo2t       67\n",
      "4  Powerful Hypnotic Language Pattern Everyone Ne...  n4uq7t       60\n"
     ]
    }
   ],
   "source": [
    "df = pd.DataFrame()\n",
    "\n",
    "df['Title'] = titles\n",
    "df['Id'] = ids\n",
    "df['Upvotes'] = scores #upvotes\n",
    "\n",
    "print(df.head())"
   ]
  },
  {
   "cell_type": "markdown",
   "id": "14751166-3a0c-4fd7-8f6d-85ea2a127216",
   "metadata": {},
   "source": [
    "# 3) Using trained model to do sentiment analysis on Reddit posts"
   ]
  },
  {
   "cell_type": "markdown",
   "id": "e3f2b3fd-61e2-4cee-a5d9-9da03e1814b5",
   "metadata": {},
   "source": [
    "### Setting environment for loading pretrained model"
   ]
  },
  {
   "cell_type": "code",
   "execution_count": 6,
   "id": "7381709c-141c-4837-a911-929c7d410dab",
   "metadata": {},
   "outputs": [
    {
     "data": {
      "text/plain": [
       "<torch._C.Generator at 0x1b1eae4b570>"
      ]
     },
     "execution_count": 6,
     "metadata": {},
     "output_type": "execute_result"
    }
   ],
   "source": [
    "import torch, torchdata, torchtext\n",
    "from torch import nn\n",
    "\n",
    "SEED = 1234\n",
    "torch.manual_seed(SEED)"
   ]
  },
  {
   "cell_type": "code",
   "execution_count": 7,
   "id": "e93af077-4273-492e-b7f2-39eee2cc5fa1",
   "metadata": {},
   "outputs": [],
   "source": [
    "device = torch.device('cuda' if torch.cuda.is_available() else 'cpu')"
   ]
  },
  {
   "cell_type": "code",
   "execution_count": 8,
   "id": "9703c40e-f4fe-4121-9051-f4336926a848",
   "metadata": {},
   "outputs": [],
   "source": [
    "from torchtext.datasets import SST2\n",
    "train = SST2(split='train')"
   ]
  },
  {
   "cell_type": "code",
   "execution_count": 9,
   "id": "13e32f02-1f28-4f45-a236-c08e54554528",
   "metadata": {},
   "outputs": [],
   "source": [
    "from torchtext.data.utils import get_tokenizer\n",
    "\n",
    "tokenizer = get_tokenizer('spacy', language='en_core_web_md')"
   ]
  },
  {
   "cell_type": "code",
   "execution_count": 10,
   "id": "251b36d6-7c21-42b8-a66f-8fb22566e33d",
   "metadata": {},
   "outputs": [],
   "source": [
    "from torchtext.vocab import build_vocab_from_iterator\n",
    "\n",
    "def yield_tokens(data_iter):  #data_iter, e.g., train\n",
    "    for text, _  in data_iter:\n",
    "        yield tokenizer(text)\n",
    "        \n",
    "vocab = build_vocab_from_iterator(yield_tokens(train), specials=['<unk>', '<pad>',\n",
    "                                                                 '<bos>', '<eos>'])"
   ]
  },
  {
   "cell_type": "code",
   "execution_count": 11,
   "id": "82b61051-9dbb-419c-a987-3206beb4c1e2",
   "metadata": {},
   "outputs": [],
   "source": [
    "vocab.set_default_index(vocab[\"<unk>\"]) "
   ]
  },
  {
   "cell_type": "code",
   "execution_count": 12,
   "id": "5e93d809-25ef-42e2-9948-38569af9d7d3",
   "metadata": {},
   "outputs": [],
   "source": [
    "id2word = vocab.get_itos()"
   ]
  },
  {
   "cell_type": "code",
   "execution_count": 13,
   "id": "34fe3a97-fe47-4375-a4fc-f4d38527b9e4",
   "metadata": {},
   "outputs": [],
   "source": [
    "pad_idx = vocab['<pad>']"
   ]
  },
  {
   "cell_type": "code",
   "execution_count": 14,
   "id": "d6b1e9af-7dc5-4baa-89d0-9127734973f0",
   "metadata": {},
   "outputs": [],
   "source": [
    "text_pipeline  = lambda x: vocab(tokenizer(x))\n",
    "label_pipeline = lambda x: int(x)"
   ]
  },
  {
   "cell_type": "markdown",
   "id": "bcd3269c-1ac9-48f0-9135-9f0455c5317f",
   "metadata": {},
   "source": [
    "### Creating LSTM Model"
   ]
  },
  {
   "cell_type": "code",
   "execution_count": 15,
   "id": "0176cf94-9828-4383-8e35-e33367441876",
   "metadata": {},
   "outputs": [],
   "source": [
    "class LSTM(nn.Module):\n",
    "    \n",
    "    def __init__(self, input_dim, emb_dim, hid_dim, output_dim, num_layers, bidirectional, \n",
    "                 dropout):\n",
    "        super().__init__()\n",
    "        #input dim = how many vocab you have\n",
    "        #emb dim = 300 --> we use fasttext\n",
    "        #padding_idx tells this lookup table to ignore, and just randomize....\n",
    "        #<unk>, <bos>, <eos>\n",
    "        self.embedding_layer = nn.Embedding(input_dim, emb_dim, padding_idx=pad_idx)\n",
    "        self.lstm            = nn.LSTM(emb_dim,\n",
    "                                       hid_dim,\n",
    "                                       num_layers = num_layers,\n",
    "                                       bidirectional = bidirectional,\n",
    "                                       dropout = dropout,  #dropout is applied between layers....\n",
    "                                       batch_first=True)\n",
    "        \n",
    "        self.fc              = nn.Linear(hid_dim * 2, output_dim)\n",
    "        \n",
    "    def forward(self, x, lengths):\n",
    "        #x: [batch size, seq len]\n",
    "        \n",
    "        embedded_x = self.embedding_layer(x)\n",
    "        #x: [batch size, seq len, emb dim]\n",
    "        \n",
    "        #pack this embedded_x in such a way that RNN knows to ignore padding....\n",
    "        #without batch_first = True; things will become [seq len, batch size, emb dim]\n",
    "        pack_embedded = nn.utils.rnn.pack_padded_sequence(embedded_x, lengths.to('cpu'),\n",
    "                                                          enforce_sorted=False,\n",
    "                                                          batch_first = True\n",
    "                                                          )\n",
    "        \n",
    "        #packed_outputs is basically all hidden states\n",
    "        #h is the last hidden state\n",
    "        #c is the last cell state\n",
    "        packed_outputs, (h, _) = self.lstm(pack_embedded)\n",
    "        \n",
    "        #h: [num_layers * num_directions, batch_size, hidden dim]\n",
    "        \n",
    "        #it happens that because packed_outputs is all hidden states....some hidden states near the end is\n",
    "        #hidden state for padding, pytorch guys help you\n",
    "        #by using this pad_packed_sequence, then all the hidden states will only be not padding....\n",
    "        output, output_lengths = nn.utils.rnn.pad_packed_sequence(packed_outputs, batch_first = True)\n",
    "        #output: [batch size, seq len, direction * hidden sim]\n",
    "        \n",
    "        #last hidden state - concat last forward and backward states\n",
    "        last_hidden_state = torch.cat((h[-1, :, :], h[-2, :, :]), dim = 1)\n",
    "        #last_hidden_state: [batch_size, hidden_dim * 2]\n",
    "        \n",
    "        #for sentiment analysis.....what should i sent to my linear layer...\n",
    "        return self.fc(last_hidden_state)  #[batch_size, output_dim]==> [batch_size, 4]"
   ]
  },
  {
   "cell_type": "code",
   "execution_count": 16,
   "id": "5da9254b-b49f-4915-824b-b85c79f69178",
   "metadata": {},
   "outputs": [],
   "source": [
    "input_dim  = 13882\n",
    "hid_dim    = 256\n",
    "emb_dim    = 300\n",
    "output_dim = 2\n",
    "\n",
    "#for biLSTM\n",
    "num_layers = 2\n",
    "bidirectional = True\n",
    "dropout = 0.2\n",
    "\n",
    "model = LSTM(input_dim, emb_dim, hid_dim, output_dim, num_layers, bidirectional, dropout).to(device)"
   ]
  },
  {
   "cell_type": "markdown",
   "id": "441fe990-db5a-42d9-8272-3e79a3aaa3b1",
   "metadata": {},
   "source": [
    "### Loading Trainined Model"
   ]
  },
  {
   "cell_type": "code",
   "execution_count": 17,
   "id": "62e2085e-b22a-4e64-b3df-6b1389065af9",
   "metadata": {},
   "outputs": [],
   "source": [
    "path = f'models/{model.__class__.__name__}.pt'"
   ]
  },
  {
   "cell_type": "code",
   "execution_count": 18,
   "id": "ab5f8dee-ff8f-48a1-b2f0-2379618ea37a",
   "metadata": {},
   "outputs": [
    {
     "data": {
      "text/plain": [
       "<All keys matched successfully>"
      ]
     },
     "execution_count": 18,
     "metadata": {},
     "output_type": "execute_result"
    }
   ],
   "source": [
    "model.load_state_dict(torch.load(path, map_location=torch.device('cpu')))"
   ]
  },
  {
   "cell_type": "code",
   "execution_count": 19,
   "id": "782109f8-8dd9-49ae-986c-3eea2d1d5ec9",
   "metadata": {},
   "outputs": [],
   "source": [
    "if next(model.parameters()).is_cuda:\n",
    "    model = model.cpu()"
   ]
  },
  {
   "cell_type": "markdown",
   "id": "38d51ddb-8f08-461b-97c9-75932a2e73bc",
   "metadata": {},
   "source": [
    "# 4) Testing sentiment for each post"
   ]
  },
  {
   "cell_type": "code",
   "execution_count": 20,
   "id": "d975f5cd-dba2-42f5-9bfe-15d22096d6cb",
   "metadata": {},
   "outputs": [],
   "source": [
    "def predict(text, text_length):\n",
    "    with torch.no_grad():\n",
    "        output = model(text, text_length).squeeze(1)\n",
    "        predicted = torch.max(output.data, 1)[1]\n",
    "        return predicted"
   ]
  },
  {
   "cell_type": "code",
   "execution_count": 21,
   "id": "c44ebd70-d892-4055-b075-ccef7e32e7e2",
   "metadata": {},
   "outputs": [],
   "source": [
    "sentiment = []\n",
    "\n",
    "for title in titles:\n",
    "    text = torch.tensor(text_pipeline(title))\n",
    "    text = text.reshape(1, -1)\n",
    "    text_length = torch.tensor([text.size(1)]).to(dtype=torch.int64)\n",
    "    senti_pred = predict(text, text_length)\n",
    "    sentiment.append(int(senti_pred[0]))"
   ]
  },
  {
   "cell_type": "code",
   "execution_count": 22,
   "id": "579a8a72-e15f-44fc-a0e4-724c16fc652b",
   "metadata": {},
   "outputs": [
    {
     "name": "stdout",
     "output_type": "stream",
     "text": [
      "                                                Title  Sentiment\n",
      "0   There should be a HUGE banner saying Neuro Lin...          1\n",
      "1   This subreddit is about the PSYCHOLOGICAL TECH...          1\n",
      "2              6 NLP Techniques You Can Use Right Now          1\n",
      "3                   Newly certified practitioners....          1\n",
      "4   Powerful Hypnotic Language Pattern Everyone Ne...          1\n",
      "5   This is the sub for NEURO LINGUISTIC PROGRAMMI...          0\n",
      "6       This subreddit is NOT about machine learning!          0\n",
      "7                           NLP discussion on YouTube          0\n",
      "8   Increase the Probability of Achieving Your Out...          1\n",
      "9   This subreddit is for \"Neuro-Linguistic-Progra...          1\n",
      "10  A Simple Process to Bring More Meaning to Your...          1\n",
      "11               One thing this NLP sub taught me....          1\n",
      "12  NLP expert needed: Is anyone watching HBO's \"T...          1\n",
      "13                    The Power of Dis-Identification          1\n",
      "14                Overcoming Overwhelm to Take Action          1\n",
      "15  A fascinating podcast with more details of how...          1\n",
      "16  Free NLP Practitioner Training Program (17 Mod...          1\n",
      "17  Aren't you bothered by the posts about Natural...          1\n",
      "18                     The VAKatrak instagram filter!          1\n",
      "19                  My favorite presupposition of NLP          0\n",
      "20  High quality NLP ressources available for free...          1\n",
      "21  Can the moderators help clarify the purpose of...          1\n",
      "22  I am sick of having the conversation what is N...          1\n",
      "23  A shedload of NLP and related stuff for free d...          1\n",
      "24  Giving away my NLP resources- yours if you'll ...          1\n",
      "25   So true. Reading “Using your brain for a change”          1\n",
      "26  The Most Important Belief to Install in Yourse...          1\n",
      "27                              NLP back in 8th grade          1\n",
      "28  If charisma can be taught, why are so many NLP...          0\n",
      "29  A-Z Of NLP Techniques and where to find them i...          1\n",
      "30                     The Power of Disidentification          1\n",
      "31  What are your go-to motivational techniques? (...          1\n",
      "32                 NLP Fast Phobia Cure Without Words          1\n",
      "33                               Gaslighting with NLP          1\n",
      "34                                                  …          1\n",
      "35  I want to take my NLP to the next level but I ...          1\n",
      "36  Effectively Managing Interruptions for Increas...          1\n",
      "37                                This is a technique          1\n",
      "38                           A group for learning NLP          0\n",
      "39       NLP Works: How I used NLP to change my Life!          1\n",
      "40  This is the sub for NEURO LINGUISTIC PROGRAMMI...          0\n",
      "41             What might be wrong with this picture?          0\n",
      "42  Since the sub is kinda slow (dead?) I'll post ...          1\n",
      "43  The power of influence by Tony Robbins - Lots ...          1\n",
      "44  State management - A Harvard psychology resear...          1\n",
      "45            The Future Of /r/NLP - Just A Thought..          1\n",
      "46  Optimistic Nihilism: The inherent meaninglessn...          1\n",
      "47         A Powerful Tip for Making Better Decisions          1\n",
      "48                  An NLP Tip for Daily Interactions          1\n",
      "49                                            PRESTO!          1\n"
     ]
    }
   ],
   "source": [
    "pred = pd.DataFrame()\n",
    "\n",
    "pred['Title'] = titles\n",
    "pred['Sentiment'] = sentiment\n",
    "\n",
    "print(pred)"
   ]
  },
  {
   "cell_type": "code",
   "execution_count": null,
   "id": "38a04d15-8458-445f-be1b-75fb9a0788ff",
   "metadata": {},
   "outputs": [],
   "source": []
  },
  {
   "cell_type": "markdown",
   "id": "7c12d8b1-9f41-4a46-bbe5-0d8c279939d2",
   "metadata": {},
   "source": [
    "### Plot of positive and negative posts count"
   ]
  },
  {
   "cell_type": "code",
   "execution_count": 23,
   "id": "36c7dfe7-8639-4600-8af6-fa64775452ff",
   "metadata": {},
   "outputs": [],
   "source": [
    "import matplotlib.pyplot as plt"
   ]
  },
  {
   "cell_type": "code",
   "execution_count": 24,
   "id": "6bc9700b-df38-46a5-828b-b51e6a8b32ac",
   "metadata": {},
   "outputs": [],
   "source": [
    "sentiment_count = {\"positive\": 0, \"negative\": 0}\n",
    "for senti in sentiment:\n",
    "    if senti == 1:\n",
    "        sentiment_count[\"positive\"] += 1\n",
    "    else:\n",
    "        sentiment_count[\"negative\"] += 1"
   ]
  },
  {
   "cell_type": "code",
   "execution_count": 25,
   "id": "dd468e01-7e61-4a11-879b-ce1cbf5c634e",
   "metadata": {},
   "outputs": [
    {
     "data": {
      "text/plain": [
       "<BarContainer object of 2 artists>"
      ]
     },
     "execution_count": 25,
     "metadata": {},
     "output_type": "execute_result"
    },
    {
     "data": {
      "image/png": "[encoded data removed]",
      "text/plain": [
       "<Figure size 640x480 with 1 Axes>"
      ]
     },
     "metadata": {},
     "output_type": "display_data"
    }
   ],
   "source": [
    "labels = list(sentiment_count.keys())\n",
    "count  = list(sentiment_count.values())\n",
    "\n",
    "plt.bar(labels, count)"
   ]
  },
  {
   "cell_type": "code",
   "execution_count": null,
   "id": "82751780-b808-4125-87b0-76ffdce9be5d",
   "metadata": {},
   "outputs": [],
   "source": []
  },
  {
   "cell_type": "markdown",
   "id": "92646193-b95b-42d4-bc07-2e859607516b",
   "metadata": {},
   "source": [
    "### Top words inside positive and negative posts"
   ]
  },
  {
   "cell_type": "code",
   "execution_count": 26,
   "id": "531adbdd-42bb-4384-ab79-f0808ff2c790",
   "metadata": {},
   "outputs": [],
   "source": [
    "pos_word_count = {}\n",
    "neg_word_count = {}\n",
    "\n",
    "def incr_word_count(text, word_count):\n",
    "    if text in word_count:\n",
    "        word_count[text] += 1\n",
    "    else:\n",
    "        word_count[text] = 1\n",
    "\n",
    "for idx in range(len(pred)):\n",
    "    text_list  = tokenizer(pred[\"Title\"][idx])\n",
    "    senti_pred = pred[\"Sentiment\"][idx]\n",
    "    \n",
    "    for text in text_list:\n",
    "        text = text.lower()\n",
    "        \n",
    "        if senti_pred == 1:\n",
    "            incr_word_count(text, pos_word_count)\n",
    "        elif senti_pred == 0:\n",
    "            incr_word_count(text, neg_word_count)"
   ]
  },
  {
   "cell_type": "markdown",
   "id": "59a7d089-5eb9-47ad-9071-fdf75ced30f4",
   "metadata": {},
   "source": [
    "https://stackoverflow.com/questions/613183/how-do-i-sort-a-dictionary-by-value --> sorting dictionary by value"
   ]
  },
  {
   "cell_type": "code",
   "execution_count": 27,
   "id": "37c499f1-de83-4d33-a642-126ca4e1cf33",
   "metadata": {},
   "outputs": [],
   "source": [
    "sorted_pos_word_count = dict(sorted(pos_word_count.items(), key=lambda item: item[1]))"
   ]
  },
  {
   "cell_type": "code",
   "execution_count": 28,
   "id": "1571b0ba-9e03-4eba-b7af-5849ed004f75",
   "metadata": {},
   "outputs": [],
   "source": [
    "sorted_neg_word_count = dict(sorted(neg_word_count.items(), key=lambda item: item[1]))"
   ]
  },
  {
   "cell_type": "code",
   "execution_count": 29,
   "id": "527a5463-7f8a-408a-86d4-c3a9491bbbbe",
   "metadata": {},
   "outputs": [
    {
     "name": "stdout",
     "output_type": "stream",
     "text": [
      "Top words inside positive posts:\n",
      "['.', 'of', 'to', 'the', 'nlp']\n"
     ]
    }
   ],
   "source": [
    "print(\"Top words inside positive posts:\")\n",
    "print(list(sorted_pos_word_count.keys())[-5:])"
   ]
  },
  {
   "cell_type": "code",
   "execution_count": 30,
   "id": "7478cd49-c4f4-450d-b0f4-44ee5640efa4",
   "metadata": {},
   "outputs": [
    {
     "name": "stdout",
     "output_type": "stream",
     "text": [
      "Top words inside negative posts:\n",
      "['this', 'be', 'nlp', 'for', '.']\n"
     ]
    }
   ],
   "source": [
    "print(\"Top words inside negative posts:\")\n",
    "print(list(sorted_neg_word_count.keys())[-5:])"
   ]
  },
  {
   "cell_type": "code",
   "execution_count": null,
   "id": "20f6da29-93ff-4686-9de4-037635b9c0d0",
   "metadata": {},
   "outputs": [],
   "source": []
  }
 ],
 "metadata": {
  "kernelspec": {
   "display_name": "Python 3",
   "language": "python",
   "name": "python3"
  },
  "language_info": {
   "codemirror_mode": {
    "name": "ipython",
    "version": 3
   },
   "file_extension": ".py",
   "mimetype": "text/x-python",
   "name": "python",
   "nbconvert_exporter": "python",
   "pygments_lexer": "ipython3",
   "version": "3.10.10"
  },
  "vscode": {
   "interpreter": {
    "hash": "a59b473075a889197cef78f691a8dde253fc9cd06ebdea22432c59d124001e4e"
   }
  }
 },
 "nbformat": 4,
 "nbformat_minor": 5
}
